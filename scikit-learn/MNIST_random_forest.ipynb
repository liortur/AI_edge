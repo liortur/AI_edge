{
 "cells": [
  {
   "cell_type": "code",
   "execution_count": 2,
   "metadata": {},
   "outputs": [
    {
     "name": "stdout",
     "output_type": "stream",
     "text": [
      "random forest accuracy:  0.9404761904761905\n"
     ]
    }
   ],
   "source": [
    "import pandas as pd\n",
    "from sklearn import cross_validation\n",
    "from sklearn.ensemble import RandomForestClassifier\n",
    "from sklearn.metrics import accuracy_score\n",
    "import pickle\n",
    "import time\n",
    "import sys\n",
    "# import data set (change library)\n",
    "train = pd.read_csv(\"*/MNIST_data.csv\")\n",
    "\n",
    "#train random forest model\n",
    "features = train.columns[1:]\n",
    "X = train[features]\n",
    "y = train['label']\n",
    "X_train, X_test, y_train, y_test = cross_validation.train_test_split(X/255.,y,test_size=0.1,random_state=0)\n",
    "clf_rf = RandomForestClassifier()\n",
    "clf_rf.fit(X_train, y_train)\n",
    "y_pred_rf = clf_rf.predict(X_test)\n",
    "acc_rf = accuracy_score(y_test, y_pred_rf)\n",
    "print (\"random forest accuracy: \",acc_rf)\n",
    "\n",
    "# save the classifier\n",
    "with open('*/MNIST_random_forest.pkl', 'wb') as fid:\n",
    "    pickle.dump(clf_rf, fid)    "
   ]
  },
  {
   "cell_type": "code",
   "execution_count": 6,
   "metadata": {},
   "outputs": [
    {
     "name": "stdout",
     "output_type": "stream",
     "text": [
      "model size= 9347022\n",
      "Test predictions: [2 0 9 ... 3 9 2]\n",
      "Overall prediction time: 0.16725707054138184\n"
     ]
    }
   ],
   "source": [
    "# load saved model\n",
    "with open('*/MNIST_random_forest.pkl', 'rb') as fid:\n",
    "    rf_loaded = pickle.load(fid)\n",
    "\n",
    "# model size\n",
    "print ('model size=',sys.getsizeof(pickle.dumps(rf_loaded)))    \n",
    "\n",
    "# run model for test set\n",
    "test = pd.read_csv(\"*/test.csv\")\n",
    "\n",
    "# prediction time\n",
    "start_time = time.time()\n",
    "predict = rf_loaded.predict(test)\n",
    "end_time = time.time()\n",
    "\n",
    "print('Test predictions:', predict)\n",
    "print (\"Overall prediction time:\", end_time - start_time)"
   ]
  },
  {
   "cell_type": "code",
   "execution_count": null,
   "metadata": {},
   "outputs": [],
   "source": []
  }
 ],
 "metadata": {
  "kernelspec": {
   "display_name": "Python 3",
   "language": "python",
   "name": "python3"
  },
  "language_info": {
   "codemirror_mode": {
    "name": "ipython",
    "version": 3
   },
   "file_extension": ".py",
   "mimetype": "text/x-python",
   "name": "python",
   "nbconvert_exporter": "python",
   "pygments_lexer": "ipython3",
   "version": "3.6.4"
  }
 },
 "nbformat": 4,
 "nbformat_minor": 2
}
