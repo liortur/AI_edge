{
 "cells": [
  {
   "cell_type": "code",
   "execution_count": 1,
   "metadata": {},
   "outputs": [
    {
     "name": "stderr",
     "output_type": "stream",
     "text": [
      "/Users/liortu/anaconda3/lib/python3.6/site-packages/sklearn/cross_validation.py:41: DeprecationWarning: This module was deprecated in version 0.18 in favor of the model_selection module into which all the refactored classes and functions are moved. Also note that the interface of the new CV iterators are different from that of this module. This module will be removed in 0.20.\n",
      "  \"This module will be removed in 0.20.\", DeprecationWarning)\n"
     ]
    },
    {
     "name": "stdout",
     "output_type": "stream",
     "text": [
      "nearest neighbors accuracy: 0.9666666666666667\n"
     ]
    }
   ],
   "source": [
    "import pandas as pd\n",
    "from sklearn import cross_validation\n",
    "from sklearn.neighbors import KNeighborsClassifier\n",
    "from sklearn.metrics import accuracy_score\n",
    "import pickle\n",
    "import time\n",
    "import sys\n",
    "# import data set (change library)\n",
    "train = pd.read_csv(\"*/MNIST_data.csv\")\n",
    "features = train.columns[1:]\n",
    "X = train[features]\n",
    "y = train['label']\n",
    "X_train, X_test, y_train, y_test = cross_validation.train_test_split(X/255.,y,test_size=0.1,random_state=0)\n",
    "\n",
    "\n",
    "# train KNN model\n",
    "clf_knn = KNeighborsClassifier()\n",
    "clf_knn.fit(X_train, y_train)\n",
    "y_pred_knn = clf_knn.predict(X_test)\n",
    "acc_knn = accuracy_score(y_test, y_pred_knn)\n",
    "print (\"nearest neighbors accuracy:\",acc_knn)\n",
    "\n",
    "# save the classifier\n",
    "with open('*/MNIST_knn.pkl', 'wb') as fid:\n",
    "    pickle.dump(clf_knn, fid)\n",
    "    "
   ]
  },
  {
   "cell_type": "code",
   "execution_count": 3,
   "metadata": {},
   "outputs": [
    {
     "name": "stdout",
     "output_type": "stream",
     "text": [
      "model size= 500512551\n",
      "Test predictions: [2 0 8 ... 3 0 2]\n",
      "Overall prediction time: 67646.60305786133\n"
     ]
    }
   ],
   "source": [
    "# load saved model\n",
    "with open('/Users/Liortu/Desktop/model_compression/containers_example/MNIST_knn.pkl', 'rb') as fid:\n",
    "    knn_loaded = pickle.load(fid)\n",
    "\n",
    "# model size\n",
    "print ('model size=',sys.getsizeof(pickle.dumps(knn_loaded)))    \n",
    "\n",
    "# run model for test set\n",
    "test = pd.read_csv(\"/Users/Liortu/Desktop/model_compression/containers_example/test.csv\")\n",
    "\n",
    "# prediction time\n",
    "start_time = time.time()\n",
    "predict = knn_loaded.predict(test)\n",
    "end_time = time.time()\n",
    "\n",
    "print('Test predictions:', predict)\n",
    "print (\"Overall prediction time:\", end_time - start_time)"
   ]
  },
  {
   "cell_type": "code",
   "execution_count": null,
   "metadata": {},
   "outputs": [],
   "source": []
  }
 ],
 "metadata": {
  "kernelspec": {
   "display_name": "Python 3",
   "language": "python",
   "name": "python3"
  },
  "language_info": {
   "codemirror_mode": {
    "name": "ipython",
    "version": 3
   },
   "file_extension": ".py",
   "mimetype": "text/x-python",
   "name": "python",
   "nbconvert_exporter": "python",
   "pygments_lexer": "ipython3",
   "version": "3.6.4"
  }
 },
 "nbformat": 4,
 "nbformat_minor": 2
}
