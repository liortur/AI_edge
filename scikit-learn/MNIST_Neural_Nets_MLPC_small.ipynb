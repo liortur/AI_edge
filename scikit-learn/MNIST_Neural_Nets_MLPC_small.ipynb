{
 "cells": [
  {
   "cell_type": "code",
   "execution_count": 4,
   "metadata": {},
   "outputs": [
    {
     "name": "stdout",
     "output_type": "stream",
     "text": [
      "Iteration 1, loss = 0.85724264\n",
      "Iteration 2, loss = 0.42817405\n",
      "Iteration 3, loss = 0.35126116\n",
      "Iteration 4, loss = 0.31041697\n",
      "Iteration 5, loss = 0.28485018\n",
      "Iteration 6, loss = 0.26889177\n",
      "Iteration 7, loss = 0.25470640\n",
      "Iteration 8, loss = 0.24050320\n",
      "Iteration 9, loss = 0.22647292\n",
      "Iteration 10, loss = 0.21386515\n",
      "Iteration 11, loss = 0.20679246\n",
      "Iteration 12, loss = 0.20058293\n",
      "Iteration 13, loss = 0.19382683\n",
      "Iteration 14, loss = 0.19252504\n",
      "Iteration 15, loss = 0.18148221\n",
      "Iteration 16, loss = 0.17762287\n",
      "Iteration 17, loss = 0.17586512\n",
      "Iteration 18, loss = 0.17242333\n",
      "Iteration 19, loss = 0.16799776\n",
      "Iteration 20, loss = 0.16175687\n",
      "Iteration 21, loss = 0.16068582\n",
      "Iteration 22, loss = 0.15724595\n",
      "Iteration 23, loss = 0.15537122\n",
      "Iteration 24, loss = 0.15518148\n",
      "Iteration 25, loss = 0.14943666\n",
      "Iteration 26, loss = 0.14573488\n",
      "Iteration 27, loss = 0.14445060\n",
      "Iteration 28, loss = 0.14046093\n",
      "Iteration 29, loss = 0.14288320\n",
      "Iteration 30, loss = 0.14190339\n",
      "Iteration 31, loss = 0.13518524\n",
      "Iteration 32, loss = 0.13589970\n",
      "Iteration 33, loss = 0.13110004\n",
      "Iteration 34, loss = 0.12774296\n",
      "Iteration 35, loss = 0.13042005\n",
      "Iteration 36, loss = 0.12977560\n",
      "Iteration 37, loss = 0.12844453\n",
      "Training loss did not improve more than tol=0.000100 for two consecutive epochs. Stopping.\n",
      "neural network accuracy:  0.9335714285714286\n"
     ]
    }
   ],
   "source": [
    "import pandas as pd\n",
    "import numpy as np\n",
    "from sklearn import cross_validation\n",
    "from sklearn.neural_network import MLPClassifier\n",
    "from sklearn.metrics import accuracy_score\n",
    "import pickle\n",
    "import time\n",
    "import sys \n",
    "# import data set (change library)\n",
    "train = pd.read_csv(\"*/MNIST_data.csv\")\n",
    "features = train.columns[1:]\n",
    "X = train[features]\n",
    "y = train['label']\n",
    "X_train, X_test, y_train, y_test = cross_validation.train_test_split(X/255.,y,test_size=0.1,random_state=0)\n",
    "\n",
    "#train NN model\n",
    "clf_nn = MLPClassifier(hidden_layer_sizes=(20, 3), max_iter=150, alpha=1e-4,\n",
    "                    solver='sgd', verbose=10, tol=1e-4, random_state=1,\n",
    "                    learning_rate_init=.1)\n",
    "\n",
    "clf_nn.fit(X_train, y_train)\n",
    "acc_nn = clf_nn.score(X_test,y_test)\n",
    "print (\"neural network accuracy: \",acc_nn)\n",
    "\n",
    "# save the classifier\n",
    "with open('/Users/Liortu/Desktop/model_compression/containers_example/MNIST_NN.pkl', 'wb') as fid:\n",
    "    pickle.dump(clf_nn, fid)\n",
    "    \n"
   ]
  },
  {
   "cell_type": "code",
   "execution_count": 6,
   "metadata": {},
   "outputs": [
    {
     "name": "stdout",
     "output_type": "stream",
     "text": [
      "model size= 258579\n",
      "Test predictions: [2 0 4 ... 3 9 2]\n",
      "Overall prediction time: 0.16693902015686035\n"
     ]
    }
   ],
   "source": [
    "# load saved model\n",
    "with open('*/MNIST_NN.pkl', 'rb') as fid:\n",
    "    nn_loaded = pickle.load(fid)\n",
    "\n",
    "# model size\n",
    "print ('model size=',sys.getsizeof(pickle.dumps(nn_loaded)))    \n",
    "\n",
    "# run model for test set\n",
    "test = pd.read_csv(\"*/test.csv\")\n",
    "\n",
    "# prediction time\n",
    "start_time = time.time()\n",
    "predict = rf_loaded.predict(test)\n",
    "end_time = time.time()\n",
    "\n",
    "print('Test predictions:', predict)\n",
    "print (\"Overall prediction time:\", end_time - start_time)"
   ]
  },
  {
   "cell_type": "code",
   "execution_count": null,
   "metadata": {},
   "outputs": [],
   "source": []
  }
 ],
 "metadata": {
  "kernelspec": {
   "display_name": "Python 3",
   "language": "python",
   "name": "python3"
  },
  "language_info": {
   "codemirror_mode": {
    "name": "ipython",
    "version": 3
   },
   "file_extension": ".py",
   "mimetype": "text/x-python",
   "name": "python",
   "nbconvert_exporter": "python",
   "pygments_lexer": "ipython3",
   "version": "3.6.4"
  }
 },
 "nbformat": 4,
 "nbformat_minor": 2
}
