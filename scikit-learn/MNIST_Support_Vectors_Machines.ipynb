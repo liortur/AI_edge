{
 "cells": [
  {
   "cell_type": "code",
   "execution_count": 4,
   "metadata": {},
   "outputs": [
    {
     "name": "stdout",
     "output_type": "stream",
     "text": [
      "Linear SVM accuracy:  0.9097619047619048\n"
     ]
    }
   ],
   "source": [
    "import pandas as pd\n",
    "from sklearn import cross_validation\n",
    "from sklearn.svm import LinearSVC\n",
    "from sklearn.metrics import accuracy_score\n",
    "import pickle\n",
    "import time\n",
    "import sys\n",
    "\n",
    "# import data set (change library)\n",
    "train = pd.read_csv(\"*/MNIST_data.csv\")\n",
    "features = train.columns[1:]\n",
    "X = train[features]\n",
    "y = train['label']\n",
    "X_train, X_test, y_train, y_test = cross_validation.train_test_split(X/255.,y,test_size=0.1,random_state=0)\n",
    "\n",
    "\n",
    "# train SVM model\n",
    "clf_svm = LinearSVC()\n",
    "clf_svm.fit(X_train, y_train)\n",
    "y_pred_svm = clf_svm.predict(X_test)\n",
    "acc_svm = accuracy_score(y_test, y_pred_svm)\n",
    "print (\"Linear SVM accuracy: \",acc_svm)\n",
    "\n",
    "# save the classifier\n",
    "with open('*/MNIST_linear_svm.pkl', 'wb') as fid:\n",
    "    pickle.dump(clf_svm, fid)\n",
    "    "
   ]
  },
  {
   "cell_type": "code",
   "execution_count": 5,
   "metadata": {},
   "outputs": [
    {
     "name": "stdout",
     "output_type": "stream",
     "text": [
      "model size= 63668\n",
      "Test predictions: [2 0 9 ... 3 9 2]\n",
      "Overall prediction time: 0.15190887451171875\n"
     ]
    }
   ],
   "source": [
    "\n",
    "# load saved model\n",
    "with open('*/MNIST_linear_svm.pkl', 'rb') as fid:\n",
    "    svm_loaded = pickle.load(fid)\n",
    "\n",
    "# model size\n",
    "print ('model size=',sys.getsizeof(pickle.dumps(svm_loaded)))    \n",
    "\n",
    "# run model for test set\n",
    "test = pd.read_csv(\"*/test.csv\")\n",
    "\n",
    "# prediction time\n",
    "start_time = time.time()\n",
    "predict = svm_loaded.predict(test)\n",
    "end_time = time.time()\n",
    "\n",
    "print('Test predictions:', predict)\n",
    "print (\"Overall prediction time:\", end_time - start_time)"
   ]
  },
  {
   "cell_type": "code",
   "execution_count": null,
   "metadata": {},
   "outputs": [],
   "source": []
  }
 ],
 "metadata": {
  "kernelspec": {
   "display_name": "Python 3",
   "language": "python",
   "name": "python3"
  },
  "language_info": {
   "codemirror_mode": {
    "name": "ipython",
    "version": 3
   },
   "file_extension": ".py",
   "mimetype": "text/x-python",
   "name": "python",
   "nbconvert_exporter": "python",
   "pygments_lexer": "ipython3",
   "version": "3.6.4"
  }
 },
 "nbformat": 4,
 "nbformat_minor": 2
}
