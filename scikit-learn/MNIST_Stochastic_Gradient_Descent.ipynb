{
 "cells": [
  {
   "cell_type": "code",
   "execution_count": 4,
   "metadata": {},
   "outputs": [
    {
     "name": "stderr",
     "output_type": "stream",
     "text": [
      "/Users/liortu/anaconda3/lib/python3.6/site-packages/sklearn/linear_model/stochastic_gradient.py:128: FutureWarning: max_iter and tol parameters have been added in <class 'sklearn.linear_model.stochastic_gradient.SGDClassifier'> in 0.19. If both are left unset, they default to max_iter=5 and tol=None. If tol is not None, max_iter defaults to max_iter=1000. From 0.21, default max_iter will be 1000, and default tol will be 1e-3.\n",
      "  \"and default tol will be 1e-3.\" % type(self), FutureWarning)\n"
     ]
    },
    {
     "name": "stdout",
     "output_type": "stream",
     "text": [
      "stochastic gradient descent accuracy:  0.878095238095238\n"
     ]
    }
   ],
   "source": [
    "import pandas as pd\n",
    "from sklearn import cross_validation\n",
    "from sklearn.linear_model import SGDClassifier\n",
    "from sklearn.metrics import accuracy_score\n",
    "import pickle\n",
    "import time\n",
    "import sys\n",
    "\n",
    "# import data set (change library)\n",
    "train = pd.read_csv(\"*/MNIST_data.csv\")\n",
    "features = train.columns[1:]\n",
    "X = train[features]\n",
    "y = train['label']\n",
    "X_train, X_test, y_train, y_test = cross_validation.train_test_split(X/255.,y,test_size=0.1,random_state=0)\n",
    "\n",
    "# train Stochastic Gradient Descent model\n",
    "clf_sgd = SGDClassifier()\n",
    "clf_sgd.fit(X_train, y_train)\n",
    "y_pred_sgd = clf_sgd.predict(X_test)\n",
    "acc_sgd = accuracy_score(y_test, y_pred_sgd)\n",
    "print (\"stochastic gradient descent accuracy: \",acc_sgd)\n",
    "\n",
    "# save the classifier\n",
    "with open('*/MNIST_stochastic_gradient_descent.pkl', 'wb') as fid:\n",
    "    pickle.dump(clf_sgd, fid)    \n"
   ]
  },
  {
   "cell_type": "code",
   "execution_count": 3,
   "metadata": {},
   "outputs": [
    {
     "name": "stdout",
     "output_type": "stream",
     "text": [
      "model size= 64010\n",
      "Test predictions: [2 0 8 ... 8 8 2]\n",
      "Overall prediction time: 0.1587228775024414\n"
     ]
    }
   ],
   "source": [
    "# load saved model\n",
    "with open('*/MNIST_stochastic_gradient_descent.pkl', 'rb') as fid:\n",
    "    sgd_loaded = pickle.load(fid)\n",
    "\n",
    "# model size\n",
    "print ('model size=',sys.getsizeof(pickle.dumps(sgd_loaded)))    \n",
    "\n",
    "# run model for test set\n",
    "test = pd.read_csv(\"*/test.csv\")\n",
    "\n",
    "# prediction time\n",
    "start_time = time.time()\n",
    "predict = sgd_loaded.predict(test)\n",
    "end_time = time.time()\n",
    "\n",
    "print('Test predictions:', predict)\n",
    "print (\"Overall prediction time:\", end_time - start_time)"
   ]
  },
  {
   "cell_type": "code",
   "execution_count": null,
   "metadata": {},
   "outputs": [],
   "source": []
  }
 ],
 "metadata": {
  "kernelspec": {
   "display_name": "Python 3",
   "language": "python",
   "name": "python3"
  },
  "language_info": {
   "codemirror_mode": {
    "name": "ipython",
    "version": 3
   },
   "file_extension": ".py",
   "mimetype": "text/x-python",
   "name": "python",
   "nbconvert_exporter": "python",
   "pygments_lexer": "ipython3",
   "version": "3.6.4"
  }
 },
 "nbformat": 4,
 "nbformat_minor": 2
}
